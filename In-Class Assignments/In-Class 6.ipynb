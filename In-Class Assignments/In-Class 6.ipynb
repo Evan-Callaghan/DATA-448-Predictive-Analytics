{
 "cells": [
  {
   "cell_type": "code",
   "execution_count": 10,
   "id": "53f2f641",
   "metadata": {},
   "outputs": [
    {
     "data": {
      "text/html": [
       "<div>\n",
       "<style scoped>\n",
       "    .dataframe tbody tr th:only-of-type {\n",
       "        vertical-align: middle;\n",
       "    }\n",
       "\n",
       "    .dataframe tbody tr th {\n",
       "        vertical-align: top;\n",
       "    }\n",
       "\n",
       "    .dataframe thead th {\n",
       "        text-align: right;\n",
       "    }\n",
       "</style>\n",
       "<table border=\"1\" class=\"dataframe\">\n",
       "  <thead>\n",
       "    <tr style=\"text-align: right;\">\n",
       "      <th></th>\n",
       "      <th>Age</th>\n",
       "      <th>Sex</th>\n",
       "      <th>BP</th>\n",
       "      <th>Cholesterol</th>\n",
       "      <th>Na_to_K</th>\n",
       "      <th>Drug</th>\n",
       "    </tr>\n",
       "  </thead>\n",
       "  <tbody>\n",
       "    <tr>\n",
       "      <th>0</th>\n",
       "      <td>23</td>\n",
       "      <td>F</td>\n",
       "      <td>HIGH</td>\n",
       "      <td>HIGH</td>\n",
       "      <td>25.355</td>\n",
       "      <td>DrugY</td>\n",
       "    </tr>\n",
       "    <tr>\n",
       "      <th>1</th>\n",
       "      <td>47</td>\n",
       "      <td>M</td>\n",
       "      <td>LOW</td>\n",
       "      <td>HIGH</td>\n",
       "      <td>13.093</td>\n",
       "      <td>drugC</td>\n",
       "    </tr>\n",
       "    <tr>\n",
       "      <th>2</th>\n",
       "      <td>47</td>\n",
       "      <td>M</td>\n",
       "      <td>LOW</td>\n",
       "      <td>HIGH</td>\n",
       "      <td>10.114</td>\n",
       "      <td>drugC</td>\n",
       "    </tr>\n",
       "    <tr>\n",
       "      <th>3</th>\n",
       "      <td>28</td>\n",
       "      <td>F</td>\n",
       "      <td>NORMAL</td>\n",
       "      <td>HIGH</td>\n",
       "      <td>7.798</td>\n",
       "      <td>drugX</td>\n",
       "    </tr>\n",
       "    <tr>\n",
       "      <th>4</th>\n",
       "      <td>61</td>\n",
       "      <td>F</td>\n",
       "      <td>LOW</td>\n",
       "      <td>HIGH</td>\n",
       "      <td>18.043</td>\n",
       "      <td>DrugY</td>\n",
       "    </tr>\n",
       "  </tbody>\n",
       "</table>\n",
       "</div>"
      ],
      "text/plain": [
       "   Age Sex      BP Cholesterol  Na_to_K   Drug\n",
       "0   23   F    HIGH        HIGH   25.355  DrugY\n",
       "1   47   M     LOW        HIGH   13.093  drugC\n",
       "2   47   M     LOW        HIGH   10.114  drugC\n",
       "3   28   F  NORMAL        HIGH    7.798  drugX\n",
       "4   61   F     LOW        HIGH   18.043  DrugY"
      ]
     },
     "execution_count": 10,
     "metadata": {},
     "output_type": "execute_result"
    }
   ],
   "source": [
    "import boto3\n",
    "import pandas as pd\n",
    "import numpy as np\n",
    "import matplotlib.pyplot as plt\n",
    "from sklearn.model_selection import train_test_split\n",
    "from sklearn.preprocessing import MinMaxScaler\n",
    "from sklearn.tree import DecisionTreeClassifier\n",
    "from sklearn.ensemble import RandomForestClassifier, AdaBoostClassifier\n",
    "from sklearn.multiclass import OneVsRestClassifier\n",
    "from sklearn.metrics import classification_report\n",
    "\n",
    "## Defining the bucket\n",
    "s3 = boto3.resource('s3')\n",
    "bucket_name = 'data-448-bucket-callaghan'\n",
    "bucket = s3.Bucket(bucket_name)\n",
    "\n",
    "## Defining the csv file\n",
    "file_key = 'drug200.csv'\n",
    "\n",
    "bucket_object = bucket.Object(file_key)\n",
    "file_object = bucket_object.get()\n",
    "file_content_stream = file_object.get('Body')\n",
    "\n",
    "## 1. Using the pandas library to read the csv data file and create a data-frame called drug\n",
    "\n",
    "drug = pd.read_csv(file_content_stream)\n",
    "\n",
    "drug.head()"
   ]
  },
  {
   "cell_type": "code",
   "execution_count": 11,
   "id": "55355dc4",
   "metadata": {},
   "outputs": [
    {
     "data": {
      "text/plain": [
       "DrugY    91\n",
       "drugX    54\n",
       "drugA    23\n",
       "drugB    16\n",
       "drugC    16\n",
       "Name: Drug, dtype: int64"
      ]
     },
     "execution_count": 11,
     "metadata": {},
     "output_type": "execute_result"
    }
   ],
   "source": [
    "## 2. Creating the frequency table of the target variable Drug\n",
    "\n",
    "drug['Drug'].value_counts()"
   ]
  },
  {
   "cell_type": "code",
   "execution_count": 12,
   "id": "89b79cd6",
   "metadata": {},
   "outputs": [],
   "source": [
    "## 3. Using the where function from numpy to create a new variable called Drug_numb\n",
    "\n",
    "drug['Drug_numb'] = np.where(drug['Drug'] == 'drugA', 1, \n",
    "                            np.where(drug['Drug'] == 'drugB', 2, \n",
    "                                    np.where(drug['Drug'] == 'drugC', 3, \n",
    "                                            np.where(drug['Drug'] == 'drugX', 4, 5))))"
   ]
  },
  {
   "cell_type": "code",
   "execution_count": 13,
   "id": "c51bcab7",
   "metadata": {},
   "outputs": [],
   "source": [
    "## 4. Changing Sex, BP and Cholesterol from labels to dummy variables\n",
    "\n",
    "drug['Sex_dummy'] = np.where(drug['Sex'] == 'M', 1, 0)\n",
    "\n",
    "drug = pd.concat([drug, pd.get_dummies(drug['BP'])], axis = 1)\n",
    "drug = drug.rename(columns = {'HIGH': 'BP_HIGH', 'LOW': 'BP_LOW', 'NORMAL': 'BP_NORMAL'})\n",
    "\n",
    "drug = pd.concat([drug, pd.get_dummies(drug['Cholesterol'])], axis = 1)\n",
    "drug = drug.rename(columns = {'HIGH': 'Chol_HIGH', 'NORMAL': 'Chol_NORMAL'})"
   ]
  },
  {
   "cell_type": "code",
   "execution_count": 14,
   "id": "065d33c6",
   "metadata": {},
   "outputs": [],
   "source": [
    "## 5. Using Age, Sex (dummy variable), BP (dummy variables), Cholesterol (dummy variable), and Na_to_K as \n",
    "## the input variables, and Drug numb as the target variable to split the data into two data-frames \n",
    "\n",
    "## Defining the input and target variables\n",
    "X = drug[['Age', 'Sex_dummy', 'BP_HIGH', 'BP_LOW', 'Chol_HIGH', 'Na_to_K']]\n",
    "Y = drug['Drug_numb']\n",
    "\n",
    "## Splitting the data\n",
    "X_train, X_test, Y_train, Y_test = train_test_split(X, Y, test_size = 0.2, stratify = Y)"
   ]
  },
  {
   "cell_type": "code",
   "execution_count": 15,
   "id": "ddec165b",
   "metadata": {},
   "outputs": [
    {
     "name": "stdout",
     "output_type": "stream",
     "text": [
      "              precision    recall  f1-score   support\n",
      "\n",
      "           1       1.00      1.00      1.00         5\n",
      "           2       1.00      1.00      1.00         3\n",
      "           3       1.00      0.67      0.80         3\n",
      "           4       0.92      1.00      0.96        11\n",
      "           5       1.00      1.00      1.00        18\n",
      "\n",
      "    accuracy                           0.97        40\n",
      "   macro avg       0.98      0.93      0.95        40\n",
      "weighted avg       0.98      0.97      0.97        40\n",
      "\n"
     ]
    }
   ],
   "source": [
    "## 6. Using train data-frame and the one-vs-all multi-class classification strategy with the random forest \n",
    "## model (with 500 trees and the maximum depth of each tree equal to 3) to build a multi-class classification model\n",
    "\n",
    "## Building the model\n",
    "one_vs_rest_rf = OneVsRestClassifier(estimator = RandomForestClassifier(n_estimators = 500, max_depth = 3)).fit(X_train, Y_train)\n",
    "\n",
    "## Predicting on the test set\n",
    "one_vs_rest_rf_preds = one_vs_rest_rf.predict(X_test)\n",
    "\n",
    "## Computing the classification report\n",
    "print(classification_report(Y_test, one_vs_rest_rf_preds))"
   ]
  },
  {
   "cell_type": "code",
   "execution_count": 16,
   "id": "45acbf53",
   "metadata": {},
   "outputs": [
    {
     "name": "stdout",
     "output_type": "stream",
     "text": [
      "              precision    recall  f1-score   support\n",
      "\n",
      "           1       1.00      1.00      1.00         5\n",
      "           2       1.00      1.00      1.00         3\n",
      "           3       1.00      1.00      1.00         3\n",
      "           4       1.00      1.00      1.00        11\n",
      "           5       1.00      1.00      1.00        18\n",
      "\n",
      "    accuracy                           1.00        40\n",
      "   macro avg       1.00      1.00      1.00        40\n",
      "weighted avg       1.00      1.00      1.00        40\n",
      "\n"
     ]
    }
   ],
   "source": [
    "## 7. Using train data-frame and the one-vs-all multi-class classification strategy with the AdaBoost model \n",
    "## (with 500 trees, the maximum depth of each tree equal to 3, and learning rate equal to 0.01) to build a multi-class \n",
    "## classification model\n",
    "\n",
    "## Building the model\n",
    "one_vs_rest_ada = OneVsRestClassifier(estimator = AdaBoostClassifier(base_estimator = DecisionTreeClassifier(max_depth = 3), \n",
    "                                                                     n_estimators = 500, learning_rate = 0.01)).fit(X_train, Y_train)\n",
    "\n",
    "## Predicting on the test set\n",
    "one_vs_rest_ada_preds = one_vs_rest_ada.predict(X_test)\n",
    "\n",
    "## Computing the classification report\n",
    "print(classification_report(Y_test, one_vs_rest_ada_preds))"
   ]
  },
  {
   "cell_type": "code",
   "execution_count": null,
   "id": "361b69ad",
   "metadata": {},
   "outputs": [],
   "source": [
    "## 8. Using the results from part 5 and 6, we would use the AdaBoost Classifier model to predict Drug."
   ]
  }
 ],
 "metadata": {
  "kernelspec": {
   "display_name": "conda_python3",
   "language": "python",
   "name": "conda_python3"
  },
  "language_info": {
   "codemirror_mode": {
    "name": "ipython",
    "version": 3
   },
   "file_extension": ".py",
   "mimetype": "text/x-python",
   "name": "python",
   "nbconvert_exporter": "python",
   "pygments_lexer": "ipython3",
   "version": "3.6.13"
  }
 },
 "nbformat": 4,
 "nbformat_minor": 5
}
