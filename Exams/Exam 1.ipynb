{
 "cells": [
  {
   "cell_type": "markdown",
   "id": "016fd719",
   "metadata": {},
   "source": [
    "# Predictive Analytics Exam 1 - Evan Callaghan"
   ]
  },
  {
   "cell_type": "markdown",
   "id": "0c83344b",
   "metadata": {},
   "source": [
    "### Topics: "
   ]
  },
  {
   "cell_type": "markdown",
   "id": "a44981f2",
   "metadata": {},
   "source": [
    "### 1. True or False\n",
    "\n",
    "#### a) In class imbalanced classification tasks, the goal is to find the model that has the highest accuracy. FALSE\n",
    "\n",
    "#### b) Over-fitting is the biggest issue with over-sampling. TRUE\n",
    "\n",
    "#### c) Under-fitting is the biggest issue with over-sampling. FALSE\n",
    "\n",
    "#### d) A model with a large number of input variables always have a good performance. FALSE\n",
    "\n",
    "#### e) If we run the SMOTE sampling technique multiple times on an imbalanced dataset, we will always obtain the same synthetic dataset. FALSE\n",
    "\n",
    "#### f) Having access to good data is better than having a good model. TRUE\n",
    "\n",
    "#### g) RFE works with any support vector machine model. FALSE\n",
    "\n",
    "#### h) RFE doesn’t work with any support vector machine model. FALSE (works with linear kernel)\n",
    "\n",
    "#### i) A typical approach to engineer features is to consider interactions because most interactions help models to generate good predictions. \n",
    "\n",
    "#### j) The support vectors in support vector machine models can be used to identify important variables/featues."
   ]
  },
  {
   "cell_type": "markdown",
   "id": "550b0f36",
   "metadata": {},
   "source": [
    "### 2. How does the Recursive Feature Elimination (RFE) algorithm work? Be specific.\n",
    "\n",
    "#### \n",
    "\n",
    "### 3. Explain one-hot encoding. Be specific.\n",
    "\n",
    "#### \n",
    "\n",
    "### 4. If you have a date column in your data-frame, then how will you perform feature engineering on the date column? List at least three features that you will engineer from date. Be specific.\n",
    "\n",
    "#### \n",
    "\n",
    "### 5. In what scenarios, would you prefer to use the precision-recall curve instead of ROC curve to measure the performance of a classifier? Be specific.\n",
    "\n",
    "#### \n",
    "\n",
    "### 6. Explain the biggest drawback of one-vs-one multi-class classification when compared to one-vs-all multi-class classification. Be specific.\n",
    "\n",
    "#### "
   ]
  },
  {
   "cell_type": "code",
   "execution_count": null,
   "id": "52feaa38",
   "metadata": {},
   "outputs": [],
   "source": []
  },
  {
   "cell_type": "code",
   "execution_count": null,
   "id": "b83f7130",
   "metadata": {},
   "outputs": [],
   "source": []
  },
  {
   "cell_type": "code",
   "execution_count": null,
   "id": "750407c6",
   "metadata": {},
   "outputs": [],
   "source": []
  },
  {
   "cell_type": "code",
   "execution_count": null,
   "id": "100831af",
   "metadata": {},
   "outputs": [],
   "source": []
  }
 ],
 "metadata": {
  "kernelspec": {
   "display_name": "conda_python3",
   "language": "python",
   "name": "conda_python3"
  },
  "language_info": {
   "codemirror_mode": {
    "name": "ipython",
    "version": 3
   },
   "file_extension": ".py",
   "mimetype": "text/x-python",
   "name": "python",
   "nbconvert_exporter": "python",
   "pygments_lexer": "ipython3",
   "version": "3.6.13"
  }
 },
 "nbformat": 4,
 "nbformat_minor": 5
}
