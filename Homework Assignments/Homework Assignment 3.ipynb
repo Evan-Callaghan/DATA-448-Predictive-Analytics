{
 "cells": [
  {
   "cell_type": "markdown",
   "id": "12263a34",
   "metadata": {},
   "source": [
    "# Homework Assignment 3"
   ]
  },
  {
   "cell_type": "markdown",
   "id": "08541596",
   "metadata": {},
   "source": [
    "## Topics: OneVsOne/OneVsRest Classifier, multi-classification report"
   ]
  },
  {
   "cell_type": "code",
   "execution_count": 2,
   "id": "0e0851f6",
   "metadata": {},
   "outputs": [
    {
     "data": {
      "text/html": [
       "<div>\n",
       "<style scoped>\n",
       "    .dataframe tbody tr th:only-of-type {\n",
       "        vertical-align: middle;\n",
       "    }\n",
       "\n",
       "    .dataframe tbody tr th {\n",
       "        vertical-align: top;\n",
       "    }\n",
       "\n",
       "    .dataframe thead th {\n",
       "        text-align: right;\n",
       "    }\n",
       "</style>\n",
       "<table border=\"1\" class=\"dataframe\">\n",
       "  <thead>\n",
       "    <tr style=\"text-align: right;\">\n",
       "      <th></th>\n",
       "      <th>Fresh</th>\n",
       "      <th>Milk</th>\n",
       "      <th>Grocery</th>\n",
       "      <th>Frozen</th>\n",
       "      <th>Detergents_Paper</th>\n",
       "      <th>Delicassen</th>\n",
       "      <th>Channel</th>\n",
       "    </tr>\n",
       "  </thead>\n",
       "  <tbody>\n",
       "    <tr>\n",
       "      <th>0</th>\n",
       "      <td>6623.613537</td>\n",
       "      <td>5513.093240</td>\n",
       "      <td>6019.057354</td>\n",
       "      <td>5669.568008</td>\n",
       "      <td>5898.660607</td>\n",
       "      <td>5179.234947</td>\n",
       "      <td>2</td>\n",
       "    </tr>\n",
       "    <tr>\n",
       "      <th>1</th>\n",
       "      <td>5642.542497</td>\n",
       "      <td>5829.866565</td>\n",
       "      <td>3960.339943</td>\n",
       "      <td>4270.020548</td>\n",
       "      <td>3498.818262</td>\n",
       "      <td>4327.423268</td>\n",
       "      <td>2</td>\n",
       "    </tr>\n",
       "    <tr>\n",
       "      <th>2</th>\n",
       "      <td>5292.078175</td>\n",
       "      <td>6634.370556</td>\n",
       "      <td>4444.335138</td>\n",
       "      <td>4888.286021</td>\n",
       "      <td>3265.391352</td>\n",
       "      <td>4887.560190</td>\n",
       "      <td>2</td>\n",
       "    </tr>\n",
       "    <tr>\n",
       "      <th>3</th>\n",
       "      <td>5595.227928</td>\n",
       "      <td>4754.860698</td>\n",
       "      <td>2977.856511</td>\n",
       "      <td>3462.490957</td>\n",
       "      <td>3609.264559</td>\n",
       "      <td>4268.641413</td>\n",
       "      <td>0</td>\n",
       "    </tr>\n",
       "    <tr>\n",
       "      <th>4</th>\n",
       "      <td>5126.693267</td>\n",
       "      <td>6009.649079</td>\n",
       "      <td>3811.569943</td>\n",
       "      <td>4744.115976</td>\n",
       "      <td>3829.516831</td>\n",
       "      <td>5097.491872</td>\n",
       "      <td>2</td>\n",
       "    </tr>\n",
       "  </tbody>\n",
       "</table>\n",
       "</div>"
      ],
      "text/plain": [
       "         Fresh         Milk      Grocery       Frozen  Detergents_Paper  \\\n",
       "0  6623.613537  5513.093240  6019.057354  5669.568008       5898.660607   \n",
       "1  5642.542497  5829.866565  3960.339943  4270.020548       3498.818262   \n",
       "2  5292.078175  6634.370556  4444.335138  4888.286021       3265.391352   \n",
       "3  5595.227928  4754.860698  2977.856511  3462.490957       3609.264559   \n",
       "4  5126.693267  6009.649079  3811.569943  4744.115976       3829.516831   \n",
       "\n",
       "    Delicassen  Channel  \n",
       "0  5179.234947        2  \n",
       "1  4327.423268        2  \n",
       "2  4887.560190        2  \n",
       "3  4268.641413        0  \n",
       "4  5097.491872        2  "
      ]
     },
     "execution_count": 2,
     "metadata": {},
     "output_type": "execute_result"
    }
   ],
   "source": [
    "import boto3\n",
    "import pandas as pd\n",
    "import numpy as np\n",
    "import matplotlib.pyplot as plt\n",
    "from sklearn.model_selection import train_test_split\n",
    "from sklearn.multiclass import OneVsOneClassifier, OneVsRestClassifier\n",
    "from sklearn.ensemble import RandomForestClassifier\n",
    "from sklearn.metrics import classification_report\n",
    "\n",
    "## Defining the bucket\n",
    "s3 = boto3.resource('s3')\n",
    "bucket_name = 'data-448-bucket-callaghan'\n",
    "bucket = s3.Bucket(bucket_name)\n",
    "\n",
    "file_key = 'MarketingData.csv'\n",
    "\n",
    "bucket_object = bucket.Object(file_key)\n",
    "file_object = bucket_object.get()\n",
    "file_content_stream = file_object.get('Body')\n",
    "\n",
    "## 1. Reading the MarketingData.csv data file and creating a data-frame called marketing_data\n",
    "\n",
    "marketing_data = pd.read_csv(file_content_stream)\n",
    "\n",
    "marketing_data.head()"
   ]
  },
  {
   "cell_type": "code",
   "execution_count": 3,
   "id": "a971423f",
   "metadata": {},
   "outputs": [
    {
     "data": {
      "text/plain": [
       "0    5007\n",
       "3    5002\n",
       "1    5001\n",
       "2    4990\n",
       "Name: Channel, dtype: int64"
      ]
     },
     "execution_count": 3,
     "metadata": {},
     "output_type": "execute_result"
    }
   ],
   "source": [
    "## 2. Reporting the number of observations in each of the marketing channels\n",
    "\n",
    "marketing_data['Channel'].value_counts()"
   ]
  },
  {
   "cell_type": "code",
   "execution_count": 4,
   "id": "071021ed",
   "metadata": {},
   "outputs": [
    {
     "data": {
      "image/png": "[encoded data removed]",
      "text/plain": [
       "<Figure size 1008x720 with 1 Axes>"
      ]
     },
     "metadata": {
      "needs_background": "light"
     },
     "output_type": "display_data"
    }
   ],
   "source": [
    "## 3. Creating two visualizations that may show interesting relationships between the input variables and the \n",
    "## target variable\n",
    "\n",
    "## Visualization 1 - grouped bar chart based on product category and marketing channel\n",
    "groups = marketing_data.groupby('Channel').mean()\n",
    "\n",
    "barWidth = 0.18\n",
    "fig = plt.figure(figsize = (14, 10))\n",
    " \n",
    "## Setting heights of bars\n",
    "bars1 = groups.loc[0]\n",
    "bars2 = groups.loc[1]\n",
    "bars3 = groups.loc[2]\n",
    "bars4 = groups.loc[3]\n",
    " \n",
    "## Setting position of bar on X axis\n",
    "r1 = np.arange(len(bars1))\n",
    "r2 = [x + barWidth for x in r1]\n",
    "r3 = [x + barWidth for x in r2]\n",
    "r4 = [x + barWidth for x in r3]\n",
    " \n",
    "plt.bar(r1, bars1, color='steelblue', width=barWidth, edgecolor='black', label='Retail')\n",
    "plt.bar(r2, bars2, color='forestgreen', width=barWidth, edgecolor='black', label='Road Show')\n",
    "plt.bar(r3, bars3, color='tan', width=barWidth, edgecolor='black', label='Social Media')\n",
    "plt.bar(r4, bars4, color='gold', width=barWidth, edgecolor='black', label='Television')\n",
    "\n",
    "plt.xlabel('Product', size = 14)\n",
    "plt.ylabel('Average Value', size = 14)\n",
    "plt.xticks([r + barWidth for r in range(len(bars1))], ['Fresh', 'Milk', 'Grocery', 'Frozen', 'Detergents_Paper', 'Delicassen'])\n",
    "plt.legend()\n",
    "plt.show()\n",
    "\n",
    "## From the visualization, we can see some intersting trends. First, the Television channel has the highest average\n",
    "## value for three of the six product categories. Next, the Road Show channel is the highest for Fresh products and \n",
    "## detergents. The Retail channel had the lowest average values in four categories (milk, grocery, frozen, and\n",
    "## delicassen). Lastly, the Social Media channel was about in the middle of the pack for each product category\n",
    "## and leads only the grocery category. "
   ]
  },
  {
   "cell_type": "code",
   "execution_count": 5,
   "id": "7994c802",
   "metadata": {},
   "outputs": [
    {
     "data": {
      "image/png": "[encoded data removed]",
      "text/plain": [
       "<Figure size 432x288 with 1 Axes>"
      ]
     },
     "metadata": {
      "needs_background": "light"
     },
     "output_type": "display_data"
    },
    {
     "data": {
      "image/png": "[encoded data removed]",
      "text/plain": [
       "<Figure size 432x288 with 1 Axes>"
      ]
     },
     "metadata": {
      "needs_background": "light"
     },
     "output_type": "display_data"
    },
    {
     "data": {
      "image/png": "[encoded data removed]",
      "text/plain": [
       "<Figure size 432x288 with 1 Axes>"
      ]
     },
     "metadata": {
      "needs_background": "light"
     },
     "output_type": "display_data"
    },
    {
     "data": {
      "image/png": "[encoded data removed]",
      "text/plain": [
       "<Figure size 432x288 with 1 Axes>"
      ]
     },
     "metadata": {
      "needs_background": "light"
     },
     "output_type": "display_data"
    },
    {
     "data": {
      "image/png": "[encoded data removed]",
      "text/plain": [
       "<Figure size 432x288 with 1 Axes>"
      ]
     },
     "metadata": {
      "needs_background": "light"
     },
     "output_type": "display_data"
    },
    {
     "data": {
      "image/png": "[encoded data removed]",
      "text/plain": [
       "<Figure size 432x288 with 1 Axes>"
      ]
     },
     "metadata": {
      "needs_background": "light"
     },
     "output_type": "display_data"
    }
   ],
   "source": [
    "## Visualization 2 - histograms for each product type\n",
    "\n",
    "plt.hist(marketing_data['Fresh'], edgecolor = 'black')\n",
    "plt.title('Histrogram of Fresh')\n",
    "plt.show()\n",
    "\n",
    "plt.hist(marketing_data['Milk'], edgecolor = 'black')\n",
    "plt.title('Histrogram of Milk')\n",
    "plt.show()\n",
    "\n",
    "plt.hist(marketing_data['Grocery'], edgecolor = 'black')\n",
    "plt.title('Histrogram of Grocery')\n",
    "plt.show()\n",
    "\n",
    "plt.hist(marketing_data['Frozen'], edgecolor = 'black')\n",
    "plt.title('Histrogram of Frozen')\n",
    "plt.show()\n",
    "\n",
    "plt.hist(marketing_data['Detergents_Paper'], edgecolor = 'black')\n",
    "plt.title('Histrogram of Detergents')\n",
    "plt.show()\n",
    "\n",
    "plt.hist(marketing_data['Delicassen'], edgecolor = 'black')\n",
    "plt.title('Histrogram of Delicassen')\n",
    "plt.show()\n",
    "\n",
    "## These visualizations are histograms for each product category. Each product ranges in annual spending \n",
    "## from about 1,000 to 10,000. Each somewhat follows a normal distribution and the peak of each product is very \n",
    "## similar, except for \"Fresh\" (slightly higher) and \"Grocery\" (slightly higher). "
   ]
  },
  {
   "cell_type": "code",
   "execution_count": 6,
   "id": "45e25d74",
   "metadata": {},
   "outputs": [],
   "source": [
    "## 4. Splitting the data into two data-frames (taking into account the proportion of 0s, 1s, 2s and 3s in \n",
    "## Channel): train (80%) and test (20%)\n",
    "\n",
    "## Defining the input and target variable\n",
    "X = marketing_data[['Fresh', 'Milk', 'Grocery', 'Frozen', 'Detergents_Paper', 'Delicassen']]\n",
    "Y = marketing_data['Channel']\n",
    "\n",
    "## Splitting the data\n",
    "X_train, X_test, Y_train, Y_test = train_test_split(X, Y, test_size = 0.2, stratify = Y)"
   ]
  },
  {
   "cell_type": "code",
   "execution_count": 7,
   "id": "63257575",
   "metadata": {},
   "outputs": [
    {
     "name": "stdout",
     "output_type": "stream",
     "text": [
      "              precision    recall  f1-score   support\n",
      "\n",
      "           0       0.80      0.76      0.78      1002\n",
      "           1       0.79      0.70      0.74      1000\n",
      "           2       0.79      0.83      0.81       998\n",
      "           3       0.80      0.90      0.85      1000\n",
      "\n",
      "    accuracy                           0.80      4000\n",
      "   macro avg       0.80      0.80      0.80      4000\n",
      "weighted avg       0.80      0.80      0.80      4000\n",
      "\n"
     ]
    }
   ],
   "source": [
    "## i) Using the one-vs-rest strategy to build the multi-class classification model \n",
    "\n",
    "## Building the model\n",
    "md1 = OneVsRestClassifier(estimator = RandomForestClassifier(n_estimators = 500, max_depth = 5)).fit(X_train, Y_train)\n",
    "\n",
    "## Predicting on the test set\n",
    "md1_preds = md1.predict(X_test)\n",
    "\n",
    "## Computing the classification report\n",
    "print(classification_report(Y_test, md1_preds))"
   ]
  },
  {
   "cell_type": "code",
   "execution_count": 8,
   "id": "8c8d746b",
   "metadata": {},
   "outputs": [
    {
     "name": "stdout",
     "output_type": "stream",
     "text": [
      "              precision    recall  f1-score   support\n",
      "\n",
      "           0       0.82      0.77      0.79      1002\n",
      "           1       0.78      0.74      0.76      1000\n",
      "           2       0.82      0.83      0.82       998\n",
      "           3       0.80      0.90      0.85      1000\n",
      "\n",
      "    accuracy                           0.81      4000\n",
      "   macro avg       0.81      0.81      0.81      4000\n",
      "weighted avg       0.81      0.81      0.81      4000\n",
      "\n"
     ]
    }
   ],
   "source": [
    "## ii) Using the one-vs-one strategy to build the multi-class classification model\n",
    "\n",
    "## Building the model\n",
    "md2 = OneVsOneClassifier(estimator = RandomForestClassifier(n_estimators = 500, max_depth = 5)).fit(X_train, Y_train)\n",
    "\n",
    "## Predicting on the test set\n",
    "md2_preds = md2.predict(X_test)\n",
    "\n",
    "## Computing the classification report\n",
    "print(classification_report(Y_test, md2_preds))"
   ]
  },
  {
   "cell_type": "code",
   "execution_count": null,
   "id": "903de116",
   "metadata": {},
   "outputs": [],
   "source": [
    "## iii) Based on the results from parts (i) and (ii), we would you use the One Vs One Classifier framework \n",
    "## to predict channel. This framework has a slightly higher f1-score for each label and a slightly higher\n",
    "## overall accuracy. "
   ]
  }
 ],
 "metadata": {
  "kernelspec": {
   "display_name": "conda_python3",
   "language": "python",
   "name": "conda_python3"
  },
  "language_info": {
   "codemirror_mode": {
    "name": "ipython",
    "version": 3
   },
   "file_extension": ".py",
   "mimetype": "text/x-python",
   "name": "python",
   "nbconvert_exporter": "python",
   "pygments_lexer": "ipython3",
   "version": "3.6.13"
  }
 },
 "nbformat": 4,
 "nbformat_minor": 5
}
