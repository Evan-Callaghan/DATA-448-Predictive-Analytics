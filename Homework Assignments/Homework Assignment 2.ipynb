{
 "cells": [
  {
   "cell_type": "markdown",
   "id": "ea628f65",
   "metadata": {},
   "source": [
    "# Homework Assignment 2 - Evan Callaghan"
   ]
  },
  {
   "cell_type": "markdown",
   "id": "4e925e0f",
   "metadata": {},
   "source": [
    "## Topics: SMOTE resampling method, Precision-Recall Curve with Random Forest and AdaBoost classification"
   ]
  },
  {
   "cell_type": "code",
   "execution_count": 1,
   "id": "d2250e26",
   "metadata": {},
   "outputs": [
    {
     "data": {
      "text/html": [
       "<div>\n",
       "<style scoped>\n",
       "    .dataframe tbody tr th:only-of-type {\n",
       "        vertical-align: middle;\n",
       "    }\n",
       "\n",
       "    .dataframe tbody tr th {\n",
       "        vertical-align: top;\n",
       "    }\n",
       "\n",
       "    .dataframe thead th {\n",
       "        text-align: right;\n",
       "    }\n",
       "</style>\n",
       "<table border=\"1\" class=\"dataframe\">\n",
       "  <thead>\n",
       "    <tr style=\"text-align: right;\">\n",
       "      <th></th>\n",
       "      <th>trustLevel</th>\n",
       "      <th>totalScanTimeInSeconds</th>\n",
       "      <th>grandTotal</th>\n",
       "      <th>lineItemVoids</th>\n",
       "      <th>scansWithoutRegistration</th>\n",
       "      <th>quantityModifications</th>\n",
       "      <th>scannedLineItemsPerSecond</th>\n",
       "      <th>valuePerSecond</th>\n",
       "      <th>lineItemVoidsPerPosition</th>\n",
       "      <th>fraud</th>\n",
       "    </tr>\n",
       "  </thead>\n",
       "  <tbody>\n",
       "    <tr>\n",
       "      <th>0</th>\n",
       "      <td>5</td>\n",
       "      <td>1054</td>\n",
       "      <td>54.70</td>\n",
       "      <td>7</td>\n",
       "      <td>0</td>\n",
       "      <td>3</td>\n",
       "      <td>0.027514</td>\n",
       "      <td>0.051898</td>\n",
       "      <td>0.241379</td>\n",
       "      <td>0</td>\n",
       "    </tr>\n",
       "    <tr>\n",
       "      <th>1</th>\n",
       "      <td>3</td>\n",
       "      <td>108</td>\n",
       "      <td>27.36</td>\n",
       "      <td>5</td>\n",
       "      <td>2</td>\n",
       "      <td>4</td>\n",
       "      <td>0.129630</td>\n",
       "      <td>0.253333</td>\n",
       "      <td>0.357143</td>\n",
       "      <td>0</td>\n",
       "    </tr>\n",
       "    <tr>\n",
       "      <th>2</th>\n",
       "      <td>3</td>\n",
       "      <td>1516</td>\n",
       "      <td>62.16</td>\n",
       "      <td>3</td>\n",
       "      <td>10</td>\n",
       "      <td>5</td>\n",
       "      <td>0.008575</td>\n",
       "      <td>0.041003</td>\n",
       "      <td>0.230769</td>\n",
       "      <td>0</td>\n",
       "    </tr>\n",
       "    <tr>\n",
       "      <th>3</th>\n",
       "      <td>6</td>\n",
       "      <td>1791</td>\n",
       "      <td>92.31</td>\n",
       "      <td>8</td>\n",
       "      <td>4</td>\n",
       "      <td>4</td>\n",
       "      <td>0.016192</td>\n",
       "      <td>0.051541</td>\n",
       "      <td>0.275862</td>\n",
       "      <td>0</td>\n",
       "    </tr>\n",
       "    <tr>\n",
       "      <th>4</th>\n",
       "      <td>5</td>\n",
       "      <td>430</td>\n",
       "      <td>81.53</td>\n",
       "      <td>3</td>\n",
       "      <td>7</td>\n",
       "      <td>2</td>\n",
       "      <td>0.062791</td>\n",
       "      <td>0.189605</td>\n",
       "      <td>0.111111</td>\n",
       "      <td>0</td>\n",
       "    </tr>\n",
       "  </tbody>\n",
       "</table>\n",
       "</div>"
      ],
      "text/plain": [
       "   trustLevel  totalScanTimeInSeconds  grandTotal  lineItemVoids  \\\n",
       "0           5                    1054       54.70              7   \n",
       "1           3                     108       27.36              5   \n",
       "2           3                    1516       62.16              3   \n",
       "3           6                    1791       92.31              8   \n",
       "4           5                     430       81.53              3   \n",
       "\n",
       "   scansWithoutRegistration  quantityModifications  scannedLineItemsPerSecond  \\\n",
       "0                         0                      3                   0.027514   \n",
       "1                         2                      4                   0.129630   \n",
       "2                        10                      5                   0.008575   \n",
       "3                         4                      4                   0.016192   \n",
       "4                         7                      2                   0.062791   \n",
       "\n",
       "   valuePerSecond  lineItemVoidsPerPosition  fraud  \n",
       "0        0.051898                  0.241379      0  \n",
       "1        0.253333                  0.357143      0  \n",
       "2        0.041003                  0.230769      0  \n",
       "3        0.051541                  0.275862      0  \n",
       "4        0.189605                  0.111111      0  "
      ]
     },
     "execution_count": 1,
     "metadata": {},
     "output_type": "execute_result"
    }
   ],
   "source": [
    "import boto3\n",
    "import pandas as pd\n",
    "import numpy as np\n",
    "from tqdm import tqdm\n",
    "import matplotlib.pyplot as plt\n",
    "from sklearn.model_selection import train_test_split\n",
    "from sklearn.tree import DecisionTreeClassifier\n",
    "from imblearn.over_sampling import SMOTE\n",
    "from sklearn.ensemble import RandomForestClassifier, AdaBoostClassifier\n",
    "from sklearn.metrics import f1_score, precision_recall_curve\n",
    "\n",
    "## Defining the bucket\n",
    "s3 = boto3.resource('s3')\n",
    "bucket_name = 'data-448-bucket-callaghan'\n",
    "bucket = s3.Bucket(bucket_name)\n",
    "\n",
    "file_key = 'train.csv'\n",
    "\n",
    "bucket_object = bucket.Object(file_key)\n",
    "file_object = bucket_object.get()\n",
    "file_content_stream = file_object.get('Body')\n",
    "\n",
    "## 1. Reading the train.csv data file and create a data-frame called train\n",
    "\n",
    "train = pd.read_csv(file_content_stream, sep = '|')\n",
    "\n",
    "train.head()"
   ]
  },
  {
   "cell_type": "code",
   "execution_count": 2,
   "id": "c540456f",
   "metadata": {},
   "outputs": [],
   "source": [
    "## 2. Using the models built in Homework Assignment 1 (using the same input variables and same model configuration)\n",
    "## to do the following:\n",
    "\n",
    "## a) Splitting the data into two data-frames (taking into account the proportion of 0s and 1s in fraud): training (80%) \n",
    "## and testing (20%).\n",
    "\n",
    "## Defining the input and target variables\n",
    "X = train[['trustLevel', 'scannedLineItemsPerSecond', 'totalScanTimeInSeconds', 'lineItemVoidsPerPosition', 'valuePerSecond']]\n",
    "Y = train['fraud']\n",
    "\n",
    "## Splitting the data\n",
    "X_train, X_test, Y_train, Y_test = train_test_split(X, Y, test_size = 0.2, stratify = Y)"
   ]
  },
  {
   "cell_type": "code",
   "execution_count": 3,
   "id": "9ec63c38",
   "metadata": {},
   "outputs": [],
   "source": [
    "## b) Using the training data-frame to create a SMOTE data-frame\n",
    "\n",
    "X_smote, Y_smote = SMOTE().fit_resample(X_train, Y_train)"
   ]
  },
  {
   "cell_type": "code",
   "execution_count": 4,
   "id": "10cb102d",
   "metadata": {},
   "outputs": [
    {
     "name": "stdout",
     "output_type": "stream",
     "text": [
      "Optimal Cut-off Value: 0.4431451924312479 \n",
      "\n",
      "F1-Score: 0.7407407407407407\n"
     ]
    }
   ],
   "source": [
    "## i) Model #1 - Random Forest Classifier\n",
    "\n",
    "## Building the model\n",
    "md1 = RandomForestClassifier(n_estimators = 5, max_depth = 5).fit(X_smote, Y_smote)\n",
    "\n",
    "## Predicting on the test set\n",
    "md1_preds = md1.predict_proba(X_test)[:, 1]\n",
    "\n",
    "## Computing the precision_recall_curve\n",
    "precision, recall, threshold = precision_recall_curve(Y_test, md1_preds)\n",
    "\n",
    "## Creating a data frame to store results\n",
    "cutoff = pd.DataFrame({'Precision': precision[:-1], 'Recall': recall[:-1], 'Cutoff': threshold})\n",
    "\n",
    "## Using the distance formula to find the optimal cutoff (precision = 1.0, recall = 1.0)\n",
    "cutoff['Precision_minus_1'] = cutoff['Precision'] - 1\n",
    "cutoff['Recall_minus_1'] = cutoff['Recall'] - 1\n",
    "\n",
    "cutoff['Distance'] = np.sqrt(cutoff['Precision_minus_1']**2 + cutoff['Recall_minus_1']**2)\n",
    "\n",
    "## Sorting the data frame and extracting the optimal cutoff value\n",
    "cutoff = cutoff.sort_values(by = 'Distance', ascending = True).reset_index(drop = True)\n",
    "\n",
    "## Extracting optimal cutoff\n",
    "cutoff_val = cutoff['Cutoff'][0]\n",
    "print('Optimal Cut-off Value:', cutoff_val, '\\n')\n",
    "\n",
    "## Changing likelihoods to labels with new cutoff value\n",
    "md1_preds_label = np.where(md1_preds < cutoff_val, 0, 1)\n",
    "\n",
    "## Printing the F1-Score\n",
    "print('F1-Score:', f1_score(Y_test, md1_preds_label))"
   ]
  },
  {
   "cell_type": "code",
   "execution_count": 5,
   "id": "c4db56b8",
   "metadata": {},
   "outputs": [
    {
     "name": "stdout",
     "output_type": "stream",
     "text": [
      "     Recall  Precision    Cutoff\n",
      "0  0.952381   0.606061  0.443145\n"
     ]
    },
    {
     "data": {
      "image/png": "[encoded data removed]",
      "text/plain": [
       "<Figure size 864x576 with 1 Axes>"
      ]
     },
     "metadata": {
      "needs_background": "light"
     },
     "output_type": "display_data"
    }
   ],
   "source": [
    "## Visualizing the precision-recall curve for Model #1\n",
    "\n",
    "## Printing the optimal recall, precision, cutoff\n",
    "print(cutoff[['Recall', 'Precision', 'Cutoff']][0:1])\n",
    "\n",
    "plt.figure(figsize= (12,8))\n",
    "plt.plot(recall[:-1], precision[:-1])\n",
    "plt.plot([1], 1, 'o', color = 'Red', markersize = 12)\n",
    "plt.plot([cutoff['Recall'][0]], cutoff['Precision'][0], '*', color = 'Orange', markersize = 12)\n",
    "plt.xlabel('Recall')\n",
    "plt.ylabel('Precision')\n",
    "plt.grid()\n",
    "plt.show()"
   ]
  },
  {
   "cell_type": "code",
   "execution_count": 6,
   "id": "16dce482",
   "metadata": {},
   "outputs": [
    {
     "name": "stdout",
     "output_type": "stream",
     "text": [
      "Optimal Cut-off Value: 0.5405628007042037 \n",
      "\n",
      "F1-Score: 0.8292682926829269\n"
     ]
    }
   ],
   "source": [
    "## ii) Model #2 - AdaBoost Classifier\n",
    "\n",
    "## Building the model\n",
    "md2 = AdaBoostClassifier(base_estimator = DecisionTreeClassifier(max_depth = 5), n_estimators = 500,\n",
    "                        learning_rate = 0.01).fit(X_smote, Y_smote)\n",
    "\n",
    "## Predicting on the test set\n",
    "md2_preds = md2.predict_proba(X_test)[:, 1]\n",
    "\n",
    "## Computing the precision-recall curve to estimate the optimal cut-off value\n",
    "precision, recall, cutoff = precision_recall_curve(Y_test, md2_preds)\n",
    "\n",
    "## Creating the data frame to store values\n",
    "cutoff = pd.DataFrame({'Precision': precision[:-1], 'Recall': recall[:-1], 'Cutoff': cutoff})\n",
    "\n",
    "## Using the distance formula to find the optimal cutoff (precision = 1.0, recall = 1.0)\n",
    "cutoff['Precision_minus_1'] = cutoff['Precision'] - 1\n",
    "cutoff['Recall_minus_1'] = cutoff['Recall'] - 1\n",
    "\n",
    "cutoff['Distance'] = np.sqrt(cutoff['Recall_minus_1']**2 + cutoff['Precision_minus_1']**2)\n",
    "\n",
    "## Sorting the data frame and extracting the threshold value with the minimal distance\n",
    "cutoff = cutoff.sort_values(by = 'Distance', ascending = True).reset_index(drop = True)\n",
    "\n",
    "## Extracting optimal cutoff\n",
    "cutoff_val = cutoff['Cutoff'][0]\n",
    "print('Optimal Cut-off Value:', cutoff_val, '\\n')\n",
    "\n",
    "## Changing likelihoods to labels with new cutoff value\n",
    "md2_preds_label = np.where(md2_preds < cutoff_val, 0, 1)\n",
    "\n",
    "## Printing the F1-Score\n",
    "print('F1-Score:', f1_score(Y_test, md2_preds_label))"
   ]
  },
  {
   "cell_type": "code",
   "execution_count": 7,
   "id": "92ef8d8d",
   "metadata": {},
   "outputs": [
    {
     "name": "stdout",
     "output_type": "stream",
     "text": [
      "     Recall  Precision    Cutoff\n",
      "0  0.809524       0.85  0.540563\n"
     ]
    },
    {
     "data": {
      "image/png": "[encoded data removed]",
      "text/plain": [
       "<Figure size 864x576 with 1 Axes>"
      ]
     },
     "metadata": {
      "needs_background": "light"
     },
     "output_type": "display_data"
    }
   ],
   "source": [
    "## Visualizing the precision-recall curve for Model #2\n",
    "\n",
    "## Printing the optimal recall, precision, cutoff\n",
    "print(cutoff[['Recall', 'Precision', 'Cutoff']][0:1])\n",
    "\n",
    "plt.figure(figsize= (12,8))\n",
    "plt.plot(recall[:-1], precision[:-1])\n",
    "plt.plot([1], 1, 'o', color = 'Red', markersize = 12)\n",
    "plt.plot([cutoff['Recall'][0]], cutoff['Precision'][0], '*', color = 'Orange', markersize = 12)\n",
    "plt.xlabel('Recall')\n",
    "plt.ylabel('Precision')\n",
    "plt.grid()\n",
    "plt.show()"
   ]
  },
  {
   "cell_type": "code",
   "execution_count": 8,
   "id": "8b5fd918",
   "metadata": {},
   "outputs": [
    {
     "name": "stderr",
     "output_type": "stream",
     "text": [
      "100%|██████████| 100/100 [09:07<00:00,  5.48s/it]"
     ]
    },
    {
     "name": "stdout",
     "output_type": "stream",
     "text": [
      "Random Forest Classifier: Mean F1-Score = 0.7114784746116983\n",
      "AdaBoost Classifier: Mean F1-Score = 0.7750291010167161\n"
     ]
    },
    {
     "name": "stderr",
     "output_type": "stream",
     "text": [
      "\n"
     ]
    }
   ],
   "source": [
    "## c) Repeating steps (a) and (b) 100 times:\n",
    "\n",
    "## Creating empty lists to store results\n",
    "rf_score = []\n",
    "ada_score = []\n",
    "\n",
    "## Defining the input and target variables\n",
    "X = train[['trustLevel', 'scannedLineItemsPerSecond', 'totalScanTimeInSeconds', 'lineItemVoidsPerPosition', 'valuePerSecond']]\n",
    "Y = train['fraud']\n",
    "\n",
    "\n",
    "## Repeating the steps 100 times\n",
    "for i in tqdm(range(0, 100)):\n",
    "    \n",
    "    ## Splitting the data\n",
    "    X_train, X_test, Y_train, Y_test = train_test_split(X, Y, test_size = 0.2, stratify = Y)\n",
    "    \n",
    "    ## Using the training data-frame to create a SMOTE data-frame\n",
    "    X_smote, Y_smote = SMOTE().fit_resample(X_train, Y_train)\n",
    "    \n",
    "    \n",
    "    ##############\n",
    "    ## Model #1 ##\n",
    "    ##############\n",
    "    \n",
    "    ## Building the model\n",
    "    rf_md = RandomForestClassifier(n_estimators = 500, max_depth = 5).fit(X_smote, Y_smote)\n",
    "    \n",
    "    ## Predicting on the test set\n",
    "    rf_preds = rf_md.predict_proba(X_test)[:, 1]\n",
    "\n",
    "    ## Computing the precision_recall_curve\n",
    "    precision, recall, threshold = precision_recall_curve(Y_test, rf_preds)\n",
    "    \n",
    "    ## Creating a data frame to store results\n",
    "    rf_cutoff = pd.DataFrame({'Precision': precision[:-1], 'Recall': recall[:-1], 'Cutoff': threshold})\n",
    "    \n",
    "    ## Using the distance formula to find the optimal cutoff (precision = 1.0, recall = 1.0)\n",
    "    rf_cutoff['Precision_minus_1'] = rf_cutoff['Precision'] - 1\n",
    "    rf_cutoff['Recall_minus_1'] = rf_cutoff['Recall'] - 1\n",
    "    \n",
    "    rf_cutoff['Distance'] = np.sqrt(rf_cutoff['Precision_minus_1']**2 + rf_cutoff['Recall_minus_1']**2)\n",
    "    \n",
    "    ## Sorting the data frame and extracting the optimal cutoff value\n",
    "    rf_cutoff = rf_cutoff.sort_values(by = 'Distance', ascending = True).reset_index(drop = True)\n",
    "    \n",
    "    ## Extracting optimal cutoff\n",
    "    rf_cutoff_val = rf_cutoff['Cutoff'][0]\n",
    "    \n",
    "    ## Changing likelihoods to labels with new cutoff value\n",
    "    rf_preds_label = np.where(rf_preds < rf_cutoff_val, 0, 1)\n",
    "    \n",
    "    ## Appening the F1-Score\n",
    "    rf_score.append(f1_score(Y_test, rf_preds_label))\n",
    "    \n",
    "    \n",
    "    ##############\n",
    "    ## Model #2 ##\n",
    "    ##############\n",
    "    \n",
    "    ## Building the model\n",
    "    ada_md = AdaBoostClassifier(base_estimator = DecisionTreeClassifier(max_depth = 5), n_estimators = 500,\n",
    "                                learning_rate = 0.01).fit(X_smote, Y_smote)\n",
    "    \n",
    "    ## Predicting on the test set\n",
    "    ada_preds = ada_md.predict_proba(X_test)[:, 1]\n",
    "    \n",
    "    ## Computing the precision-recall curve to estimate the optimal cut-off value\n",
    "    precision, recall, cutoff = precision_recall_curve(Y_test, ada_preds)\n",
    "    \n",
    "    ## Creating the data frame to store values\n",
    "    ada_cutoff = pd.DataFrame({'Precision': precision[:-1], 'Recall': recall[:-1], 'Cutoff': cutoff})\n",
    "    \n",
    "    ## Using the distance formula to find the optimal cutoff (precision = 1.0, recall = 1.0)\n",
    "    ada_cutoff['Precision_minus_1'] = ada_cutoff['Precision'] - 1\n",
    "    ada_cutoff['Recall_minus_1'] = ada_cutoff['Recall'] - 1\n",
    "    \n",
    "    ada_cutoff['Distance'] = np.sqrt(ada_cutoff['Recall_minus_1']**2 + ada_cutoff['Precision_minus_1']**2)\n",
    "    \n",
    "    ## Sorting the data frame and extracting the threshold value with the minimal distance\n",
    "    ada_cutoff = ada_cutoff.sort_values(by = 'Distance', ascending = True).reset_index(drop = True)\n",
    "    \n",
    "    ## Extracting optimal cutoff\n",
    "    ada_cutoff_val = ada_cutoff['Cutoff'][0]\n",
    "    \n",
    "    ## Changing likelihoods to labels with new cutoff value\n",
    "    ada_preds_label = np.where(ada_preds < ada_cutoff_val, 0, 1)\n",
    "    \n",
    "    ## Appening the F1-Score\n",
    "    ada_score.append(f1_score(Y_test, ada_preds_label))\n",
    "    \n",
    "    \n",
    "## Printing the mean performance of each model type\n",
    "print('Random Forest Classifier: Mean F1-Score =', np.mean(rf_score))\n",
    "print('AdaBoost Classifier: Mean F1-Score =', np.mean(ada_score))"
   ]
  },
  {
   "cell_type": "code",
   "execution_count": null,
   "id": "77e21ed1",
   "metadata": {},
   "outputs": [],
   "source": [
    "## Based on part (c), we would use the AdaBoost Classifier model to predict customer fraud becuase it has a \n",
    "## slightly higher mean F1-Score. "
   ]
  }
 ],
 "metadata": {
  "kernelspec": {
   "display_name": "conda_python3",
   "language": "python",
   "name": "conda_python3"
  },
  "language_info": {
   "codemirror_mode": {
    "name": "ipython",
    "version": 3
   },
   "file_extension": ".py",
   "mimetype": "text/x-python",
   "name": "python",
   "nbconvert_exporter": "python",
   "pygments_lexer": "ipython3",
   "version": "3.6.13"
  }
 },
 "nbformat": 4,
 "nbformat_minor": 5
}
