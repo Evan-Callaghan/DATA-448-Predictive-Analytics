{
 "cells": [
  {
   "cell_type": "markdown",
   "id": "bf3222a2",
   "metadata": {},
   "source": [
    "# Homework Assignment 1 - Evan Callaghan"
   ]
  },
  {
   "cell_type": "code",
   "execution_count": 76,
   "id": "78b7615d",
   "metadata": {},
   "outputs": [
    {
     "data": {
      "text/html": [
       "<div>\n",
       "<style scoped>\n",
       "    .dataframe tbody tr th:only-of-type {\n",
       "        vertical-align: middle;\n",
       "    }\n",
       "\n",
       "    .dataframe tbody tr th {\n",
       "        vertical-align: top;\n",
       "    }\n",
       "\n",
       "    .dataframe thead th {\n",
       "        text-align: right;\n",
       "    }\n",
       "</style>\n",
       "<table border=\"1\" class=\"dataframe\">\n",
       "  <thead>\n",
       "    <tr style=\"text-align: right;\">\n",
       "      <th></th>\n",
       "      <th>trustLevel</th>\n",
       "      <th>totalScanTimeInSeconds</th>\n",
       "      <th>grandTotal</th>\n",
       "      <th>lineItemVoids</th>\n",
       "      <th>scansWithoutRegistration</th>\n",
       "      <th>quantityModifications</th>\n",
       "      <th>scannedLineItemsPerSecond</th>\n",
       "      <th>valuePerSecond</th>\n",
       "      <th>lineItemVoidsPerPosition</th>\n",
       "      <th>fraud</th>\n",
       "    </tr>\n",
       "  </thead>\n",
       "  <tbody>\n",
       "    <tr>\n",
       "      <th>0</th>\n",
       "      <td>5</td>\n",
       "      <td>1054</td>\n",
       "      <td>54.70</td>\n",
       "      <td>7</td>\n",
       "      <td>0</td>\n",
       "      <td>3</td>\n",
       "      <td>0.027514</td>\n",
       "      <td>0.051898</td>\n",
       "      <td>0.241379</td>\n",
       "      <td>0</td>\n",
       "    </tr>\n",
       "    <tr>\n",
       "      <th>1</th>\n",
       "      <td>3</td>\n",
       "      <td>108</td>\n",
       "      <td>27.36</td>\n",
       "      <td>5</td>\n",
       "      <td>2</td>\n",
       "      <td>4</td>\n",
       "      <td>0.129630</td>\n",
       "      <td>0.253333</td>\n",
       "      <td>0.357143</td>\n",
       "      <td>0</td>\n",
       "    </tr>\n",
       "    <tr>\n",
       "      <th>2</th>\n",
       "      <td>3</td>\n",
       "      <td>1516</td>\n",
       "      <td>62.16</td>\n",
       "      <td>3</td>\n",
       "      <td>10</td>\n",
       "      <td>5</td>\n",
       "      <td>0.008575</td>\n",
       "      <td>0.041003</td>\n",
       "      <td>0.230769</td>\n",
       "      <td>0</td>\n",
       "    </tr>\n",
       "    <tr>\n",
       "      <th>3</th>\n",
       "      <td>6</td>\n",
       "      <td>1791</td>\n",
       "      <td>92.31</td>\n",
       "      <td>8</td>\n",
       "      <td>4</td>\n",
       "      <td>4</td>\n",
       "      <td>0.016192</td>\n",
       "      <td>0.051541</td>\n",
       "      <td>0.275862</td>\n",
       "      <td>0</td>\n",
       "    </tr>\n",
       "    <tr>\n",
       "      <th>4</th>\n",
       "      <td>5</td>\n",
       "      <td>430</td>\n",
       "      <td>81.53</td>\n",
       "      <td>3</td>\n",
       "      <td>7</td>\n",
       "      <td>2</td>\n",
       "      <td>0.062791</td>\n",
       "      <td>0.189605</td>\n",
       "      <td>0.111111</td>\n",
       "      <td>0</td>\n",
       "    </tr>\n",
       "  </tbody>\n",
       "</table>\n",
       "</div>"
      ],
      "text/plain": [
       "   trustLevel  totalScanTimeInSeconds  grandTotal  lineItemVoids  \\\n",
       "0           5                    1054       54.70              7   \n",
       "1           3                     108       27.36              5   \n",
       "2           3                    1516       62.16              3   \n",
       "3           6                    1791       92.31              8   \n",
       "4           5                     430       81.53              3   \n",
       "\n",
       "   scansWithoutRegistration  quantityModifications  scannedLineItemsPerSecond  \\\n",
       "0                         0                      3                   0.027514   \n",
       "1                         2                      4                   0.129630   \n",
       "2                        10                      5                   0.008575   \n",
       "3                         4                      4                   0.016192   \n",
       "4                         7                      2                   0.062791   \n",
       "\n",
       "   valuePerSecond  lineItemVoidsPerPosition  fraud  \n",
       "0        0.051898                  0.241379      0  \n",
       "1        0.253333                  0.357143      0  \n",
       "2        0.041003                  0.230769      0  \n",
       "3        0.051541                  0.275862      0  \n",
       "4        0.189605                  0.111111      0  "
      ]
     },
     "execution_count": 76,
     "metadata": {},
     "output_type": "execute_result"
    }
   ],
   "source": [
    "import boto3\n",
    "import pandas as pd\n",
    "import numpy as np\n",
    "import matplotlib.pyplot as plt\n",
    "from sklearn.model_selection import train_test_split\n",
    "from sklearn.tree import DecisionTreeClassifier\n",
    "from sklearn.ensemble import RandomForestClassifier, AdaBoostClassifier\n",
    "from sklearn.metrics import classification_report, precision_recall_curve\n",
    "\n",
    "## Defining the bucket\n",
    "s3 = boto3.resource('s3')\n",
    "bucket_name = 'data-448-bucket-callaghan'\n",
    "bucket = s3.Bucket(bucket_name)\n",
    "\n",
    "## 1. Created new s3 bucket: data-448-bucket-callaghan\n",
    "## Using pandas to read the data files\n",
    "\n",
    "file_key = 'train.csv'\n",
    "file_key2 = 'test.csv'\n",
    "\n",
    "bucket_object = bucket.Object(file_key)\n",
    "bucket_object2 = bucket.Object(file_key2)\n",
    "\n",
    "file_object = bucket_object.get()\n",
    "file_object2 = bucket_object2.get()\n",
    "\n",
    "file_content_stream = file_object.get('Body')\n",
    "file_content_stream2 = file_object2.get('Body')\n",
    "\n",
    "train = pd.read_csv(file_content_stream, sep = '|')\n",
    "test = pd.read_csv(file_content_stream2, sep = '|')\n",
    "\n",
    "train.head()"
   ]
  },
  {
   "cell_type": "code",
   "execution_count": 77,
   "id": "138c0610",
   "metadata": {},
   "outputs": [
    {
     "name": "stdout",
     "output_type": "stream",
     "text": [
      "Train dimensions: (1879, 10)\n",
      "Test dimensions: (498121, 9)\n",
      "\n",
      "Number of fraud in training set:\n",
      " 0    1775\n",
      "1     104\n",
      "Name: fraud, dtype: int64\n",
      "\n",
      "Relative proportion of fraud in training set:\n",
      " 0    0.944651\n",
      "1    0.055349\n",
      "Name: fraud, dtype: float64\n"
     ]
    }
   ],
   "source": [
    "## 2. Reporting the number of observations in the train and test data-frames\n",
    "\n",
    "print(\"Train dimensions:\", train.shape)\n",
    "print(\"Test dimensions:\", test.shape)\n",
    "\n",
    "## Creating a frequency table of the target variable (fraud)\n",
    "\n",
    "print('\\nNumber of fraud in training set:\\n', train['fraud'].value_counts())\n",
    "\n",
    "## Relative frequencies\n",
    "print('\\nRelative proportion of fraud in training set:\\n', train['fraud'].value_counts() / train.shape[0])"
   ]
  },
  {
   "cell_type": "code",
   "execution_count": 78,
   "id": "3783235b",
   "metadata": {},
   "outputs": [
    {
     "data": {
      "image/png": "[encoded data removed]",
      "text/plain": [
       "<Figure size 432x288 with 1 Axes>"
      ]
     },
     "metadata": {
      "needs_background": "light"
     },
     "output_type": "display_data"
    }
   ],
   "source": [
    "## 3. a) Visualization 1 -- Bar plot of total number of frauds for each \"Trust Level\" group\n",
    "\n",
    "trust = train.groupby('trustLevel').sum()\n",
    "\n",
    "fig = plt.figure()\n",
    "plt.bar(trust.index, trust['fraud'])\n",
    "plt.title('Frauds by Trust Level')\n",
    "plt.xlabel('Customer Trust Level')\n",
    "plt.ylabel('Number of Frauds')\n",
    "plt.show()\n",
    "\n",
    "## Clearly, we can see that the higher customer trust scores have no fraud transactions. All frauds\n",
    "## are made up of customers with a trust score of 1 or 2. This seems to be an important variable for\n",
    "## fraud detection."
   ]
  },
  {
   "cell_type": "code",
   "execution_count": 79,
   "id": "d40dca7e",
   "metadata": {},
   "outputs": [
    {
     "data": {
      "image/png": "[encoded data removed]",
      "text/plain": [
       "<Figure size 432x288 with 1 Axes>"
      ]
     },
     "metadata": {
      "needs_background": "light"
     },
     "output_type": "display_data"
    }
   ],
   "source": [
    "## 3. b) Visualization 2 -- Bar plot of average number of scanned products between fraud and \n",
    "## not fraud transactions\n",
    "\n",
    "train['fraud_label'] = np.where(train['fraud'] == 0, '0', '1')\n",
    "\n",
    "average = train.groupby('fraud_label').mean()\n",
    "\n",
    "train = train.drop(columns = 'fraud_label')\n",
    "\n",
    "fig = plt.figure()\n",
    "plt.bar(average.index, average['scannedLineItemsPerSecond'])\n",
    "plt.title('Average Scanned Line Items per Second by Fraud')\n",
    "plt.xlabel('Fraud')\n",
    "plt.ylabel('Average Scanned Line Items per Second')\n",
    "plt.show()\n",
    "\n",
    "## Here, we can see that for fraud transactions, the average number of scanned items per second is about \n",
    "## 50% less than the average number of scanned items per second for non-fraud transactions. This seems to \n",
    "## be an important variable for fraud detection. Clearly, the customers committing fraud are, on average, \n",
    "## scanning less items per second. "
   ]
  },
  {
   "cell_type": "code",
   "execution_count": 80,
   "id": "d1c7ce09",
   "metadata": {},
   "outputs": [
    {
     "data": {
      "text/html": [
       "<div>\n",
       "<style scoped>\n",
       "    .dataframe tbody tr th:only-of-type {\n",
       "        vertical-align: middle;\n",
       "    }\n",
       "\n",
       "    .dataframe tbody tr th {\n",
       "        vertical-align: top;\n",
       "    }\n",
       "\n",
       "    .dataframe thead th {\n",
       "        text-align: right;\n",
       "    }\n",
       "</style>\n",
       "<table border=\"1\" class=\"dataframe\">\n",
       "  <thead>\n",
       "    <tr style=\"text-align: right;\">\n",
       "      <th></th>\n",
       "      <th>Variable</th>\n",
       "      <th>Importance_Score</th>\n",
       "    </tr>\n",
       "  </thead>\n",
       "  <tbody>\n",
       "    <tr>\n",
       "      <th>0</th>\n",
       "      <td>trustLevel</td>\n",
       "      <td>0.381887</td>\n",
       "    </tr>\n",
       "    <tr>\n",
       "      <th>1</th>\n",
       "      <td>scannedLineItemsPerSecond</td>\n",
       "      <td>0.153796</td>\n",
       "    </tr>\n",
       "    <tr>\n",
       "      <th>2</th>\n",
       "      <td>totalScanTimeInSeconds</td>\n",
       "      <td>0.133168</td>\n",
       "    </tr>\n",
       "    <tr>\n",
       "      <th>3</th>\n",
       "      <td>lineItemVoidsPerPosition</td>\n",
       "      <td>0.100892</td>\n",
       "    </tr>\n",
       "    <tr>\n",
       "      <th>4</th>\n",
       "      <td>valuePerSecond</td>\n",
       "      <td>0.079134</td>\n",
       "    </tr>\n",
       "    <tr>\n",
       "      <th>5</th>\n",
       "      <td>lineItemVoids</td>\n",
       "      <td>0.055233</td>\n",
       "    </tr>\n",
       "    <tr>\n",
       "      <th>6</th>\n",
       "      <td>grandTotal</td>\n",
       "      <td>0.049442</td>\n",
       "    </tr>\n",
       "    <tr>\n",
       "      <th>7</th>\n",
       "      <td>scansWithoutRegistration</td>\n",
       "      <td>0.037374</td>\n",
       "    </tr>\n",
       "    <tr>\n",
       "      <th>8</th>\n",
       "      <td>quantityModifications</td>\n",
       "      <td>0.009075</td>\n",
       "    </tr>\n",
       "  </tbody>\n",
       "</table>\n",
       "</div>"
      ],
      "text/plain": [
       "                    Variable  Importance_Score\n",
       "0                 trustLevel          0.381887\n",
       "1  scannedLineItemsPerSecond          0.153796\n",
       "2     totalScanTimeInSeconds          0.133168\n",
       "3   lineItemVoidsPerPosition          0.100892\n",
       "4             valuePerSecond          0.079134\n",
       "5              lineItemVoids          0.055233\n",
       "6                 grandTotal          0.049442\n",
       "7   scansWithoutRegistration          0.037374\n",
       "8      quantityModifications          0.009075"
      ]
     },
     "execution_count": 80,
     "metadata": {},
     "output_type": "execute_result"
    }
   ],
   "source": [
    "## 4. Building and comparing the performance of two different models\n",
    "\n",
    "## Extracting variable importance scores\n",
    "\n",
    "## Defining the empty data frame to store results\n",
    "importance = pd.DataFrame(columns = train.columns).drop(columns = ['fraud'])\n",
    "\n",
    "## Repeating 100 times\n",
    "for i in range(0, 100):\n",
    "\n",
    "    ## Defining the input and target variables\n",
    "    X = train.drop(columns = ['fraud'])\n",
    "    Y = train['fraud']\n",
    "\n",
    "    ## Splitting the data\n",
    "    X_train, X_test, Y_train, Y_test = train_test_split(X, Y, test_size = 0.2, stratify = Y)\n",
    "    \n",
    "    ## Building the model\n",
    "    rf_md = RandomForestClassifier(n_estimators = 500, max_depth = 5).fit(X_train, Y_train)\n",
    "\n",
    "    ## Extracting the feature importance\n",
    "    importance.loc[i] = rf_md.feature_importances_.T\n",
    "\n",
    "    \n",
    "## Computing the average importance of each of the variables across the 100 splits.\n",
    "pd.DataFrame({'Variable':importance.mean().index, \n",
    "              'Importance_Score':importance.mean().values}).sort_values(by = 'Importance_Score', ascending = False).reset_index(drop = True)"
   ]
  },
  {
   "cell_type": "code",
   "execution_count": 81,
   "id": "4d61cc08",
   "metadata": {},
   "outputs": [],
   "source": [
    "## 4. Subsetting the data with the five most important variables\n",
    "\n",
    "## Defining input and target variables\n",
    "X = train[['trustLevel', 'scannedLineItemsPerSecond', 'totalScanTimeInSeconds', 'lineItemVoidsPerPosition', 'valuePerSecond']]\n",
    "Y = train['fraud']\n",
    "\n",
    "## Splitting the data (keeping proportions of 0's and 1's the same)\n",
    "X_train, X_test, Y_train, Y_test = train_test_split(X, Y, test_size = 0.2, stratify = Y)"
   ]
  },
  {
   "cell_type": "code",
   "execution_count": 95,
   "id": "2e64d82a",
   "metadata": {},
   "outputs": [
    {
     "name": "stdout",
     "output_type": "stream",
     "text": [
      "Optimal Cut-off Value: 0.37597699340821894\n",
      "              precision    recall  f1-score   support\n",
      "\n",
      "           0       0.99      0.99      0.99       355\n",
      "           1       0.90      0.86      0.88        21\n",
      "\n",
      "    accuracy                           0.99       376\n",
      "   macro avg       0.95      0.93      0.94       376\n",
      "weighted avg       0.99      0.99      0.99       376\n",
      "\n"
     ]
    }
   ],
   "source": [
    "## 4. a) Model #1 - Random Forest Classifier\n",
    "\n",
    "## Building the model\n",
    "md1 = RandomForestClassifier(n_estimators = 500, max_depth = 5).fit(X_train, Y_train)\n",
    "    \n",
    "## Predicting on the test set\n",
    "md1_preds = md1.predict_proba(X_test)[:, 1]\n",
    "\n",
    "## Computing the precision-recall curve to estimate the optimal cut-off value\n",
    "precision, recall, cutoff = precision_recall_curve(Y_test, md1_preds)\n",
    "\n",
    "## Creating the data frame to store values\n",
    "rf_cutoff = pd.DataFrame({'Precision': precision[:-1], 'Recall': recall[:-1], 'Cutoff': cutoff})\n",
    "\n",
    "## Using the distance formula to find the optimal cutoff\n",
    "rf_cutoff['Recall_minus_1'] = rf_cutoff['Recall'] - 1\n",
    "rf_cutoff['Precision_minus_1'] = rf_cutoff['Precision'] - 1\n",
    "\n",
    "rf_cutoff['Distance'] = np.sqrt(rf_cutoff['Recall_minus_1']**2 + rf_cutoff['Precision_minus_1']**2)\n",
    "\n",
    "## Sorting the data frame and extracting the threshold value with the minimal distance\n",
    "rf_cutoff = rf_cutoff.sort_values(by = 'Distance', ascending = True).reset_index(drop = True)\n",
    "\n",
    "## Extracting optimal cutoff\n",
    "rf_cutoff_val = rf_cutoff['Cutoff'][0]\n",
    "print('Optimal Cut-off Value:', rf_cutoff_val)\n",
    "\n",
    "## Changing likelihoods to labels with new cutoff value\n",
    "md1_preds_label = np.where(md1_preds < rf_cutoff_val, 0, 1)\n",
    "\n",
    "## Printing the classification report\n",
    "print(classification_report(Y_test, md1_preds_label))"
   ]
  },
  {
   "cell_type": "code",
   "execution_count": 96,
   "id": "63f007c6",
   "metadata": {},
   "outputs": [
    {
     "data": {
      "image/png": "[encoded data removed]",
      "text/plain": [
       "<Figure size 864x576 with 1 Axes>"
      ]
     },
     "metadata": {
      "needs_background": "light"
     },
     "output_type": "display_data"
    }
   ],
   "source": [
    "## Visualizing the precision-recall curve for Model #1\n",
    "\n",
    "plt.figure(figsize= (12,8))\n",
    "plt.plot(recall[:-1], precision[:-1])\n",
    "plt.xlabel('Recall')\n",
    "plt.ylabel('Precision')\n",
    "plt.grid()\n",
    "plt.show()"
   ]
  },
  {
   "cell_type": "code",
   "execution_count": 97,
   "id": "ba915167",
   "metadata": {},
   "outputs": [
    {
     "name": "stdout",
     "output_type": "stream",
     "text": [
      "Optimal Cut-off Value: 0.010998814114901074\n",
      "              precision    recall  f1-score   support\n",
      "\n",
      "           0       0.99      0.98      0.99       355\n",
      "           1       0.76      0.90      0.83        21\n",
      "\n",
      "    accuracy                           0.98       376\n",
      "   macro avg       0.88      0.94      0.91       376\n",
      "weighted avg       0.98      0.98      0.98       376\n",
      "\n"
     ]
    }
   ],
   "source": [
    "## 4. b) Model #2 - AdaBoost Classifier\n",
    "\n",
    "## Building the model\n",
    "md2 = AdaBoostClassifier(base_estimator = DecisionTreeClassifier(max_depth = 5), n_estimators = 500,\n",
    "                        learning_rate = 0.01).fit(X_train, Y_train)\n",
    "\n",
    "## Predicting on the test set\n",
    "md2_preds = md2.predict_proba(X_test)[:, 1]\n",
    "\n",
    "## Computing the precision-recall curve to estimate the optimal cut-off value\n",
    "precision, recall, cutoff = precision_recall_curve(Y_test, md2_preds)\n",
    "\n",
    "## Creating the data frame to store values\n",
    "ada_cutoff = pd.DataFrame({'Precision': precision[:-1], 'Recall': recall[:-1], 'Cutoff': cutoff})\n",
    "\n",
    "## Using the distance formula to find the optimal cutoff\n",
    "ada_cutoff['Recall_minus_1'] = ada_cutoff['Recall'] - 1\n",
    "ada_cutoff['Precision_minus_1'] = ada_cutoff['Precision'] - 1\n",
    "\n",
    "ada_cutoff['Distance'] = np.sqrt(ada_cutoff['Recall_minus_1']**2 + ada_cutoff['Precision_minus_1']**2)\n",
    "\n",
    "## Sorting the data frame and extracting the threshold value with the minimal distance\n",
    "ada_cutoff = ada_cutoff.sort_values(by = 'Distance', ascending = True).reset_index(drop = True)\n",
    "\n",
    "## Extracting optimal cutoff\n",
    "ada_cutoff_val = ada_cutoff['Cutoff'][0]\n",
    "print('Optimal Cut-off Value:', ada_cutoff_val)\n",
    "\n",
    "## Changing likelihoods to labels with new cutoff value\n",
    "md2_preds_label = np.where(md2_preds < ada_cutoff_val, 0, 1)\n",
    "\n",
    "## Printing the classification report\n",
    "print(classification_report(Y_test, md2_preds_label))"
   ]
  },
  {
   "cell_type": "code",
   "execution_count": 98,
   "id": "085ff069",
   "metadata": {},
   "outputs": [
    {
     "data": {
      "image/png": "[encoded data removed]",
      "text/plain": [
       "<Figure size 864x576 with 1 Axes>"
      ]
     },
     "metadata": {
      "needs_background": "light"
     },
     "output_type": "display_data"
    }
   ],
   "source": [
    "## Visualizing the precision-recall curve for Model #2\n",
    "\n",
    "plt.figure(figsize= (12,8))\n",
    "plt.plot(recall[:-1], precision[:-1])\n",
    "plt.xlabel('Recall')\n",
    "plt.ylabel('Precision')\n",
    "plt.grid()\n",
    "plt.show()"
   ]
  }
 ],
 "metadata": {
  "kernelspec": {
   "display_name": "conda_python3",
   "language": "python",
   "name": "conda_python3"
  },
  "language_info": {
   "codemirror_mode": {
    "name": "ipython",
    "version": 3
   },
   "file_extension": ".py",
   "mimetype": "text/x-python",
   "name": "python",
   "nbconvert_exporter": "python",
   "pygments_lexer": "ipython3",
   "version": "3.6.13"
  }
 },
 "nbformat": 4,
 "nbformat_minor": 5
}
